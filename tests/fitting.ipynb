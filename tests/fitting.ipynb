{
 "cells": [
  {
   "cell_type": "code",
   "execution_count": null,
   "metadata": {},
   "outputs": [],
   "source": [
    "from puck import *\n",
    "import numpy as np\n",
    "import matplotlib.pyplot as plt"
   ]
  },
  {
   "cell_type": "code",
   "execution_count": null,
   "metadata": {},
   "outputs": [],
   "source": [
    "\"\"\" basic (linear) fitting \"\"\"\n",
    "xs = np.linspace(0,1,20)\n",
    "data = 1.0 + 0.2*xs + 1.0*xs**2 + np.random.randn(100, xs.shape[0])\n",
    "fit_poly(xs,data, plot=True, verbose=True, x_min=0.05)"
   ]
  },
  {
   "cell_type": "code",
   "execution_count": null,
   "metadata": {},
   "outputs": [],
   "source": [
    "\"\"\" basic non-linear fitting with minuit \"\"\"\n",
    "# this example really needs good starting values to converge\n",
    "xs = np.linspace(0,10,100)\n",
    "data = 1.0 + np.sin(xs*2+0.1) + np.random.randn(100, xs.shape[0])\n",
    "fit_minuit(xs, data, model=lambda x,a,b,c: a+np.sin(x*b+c), guesses=[0.5,1.8,0], plot=True, verbose=True)"
   ]
  },
  {
   "cell_type": "code",
   "execution_count": null,
   "metadata": {},
   "outputs": [],
   "source": [
    "\"\"\" some exponential fitting (based on varpro method) \"\"\"\n",
    "xs = np.linspace(0, 10, 20)\n",
    "data = 1.0 + np.exp(-xs/3) + np.random.randn(100, xs.shape[0])\n",
    "fit_exp(xs, data, with_const=True, verbose=True, plot=True)"
   ]
  },
  {
   "cell_type": "code",
   "execution_count": null,
   "metadata": {},
   "outputs": [],
   "source": []
  }
 ],
 "metadata": {
  "kernelspec": {
   "display_name": "Python 3",
   "language": "python",
   "name": "python3"
  },
  "language_info": {
   "codemirror_mode": {
    "name": "ipython",
    "version": 3
   },
   "file_extension": ".py",
   "mimetype": "text/x-python",
   "name": "python",
   "nbconvert_exporter": "python",
   "pygments_lexer": "ipython3",
   "version": "3.8.10"
  }
 },
 "nbformat": 4,
 "nbformat_minor": 4
}
